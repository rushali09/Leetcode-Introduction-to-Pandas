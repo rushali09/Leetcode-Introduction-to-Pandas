{
 "cells": [
  {
   "cell_type": "code",
   "execution_count": null,
   "id": "a8268c97",
   "metadata": {},
   "outputs": [],
   "source": [
    "# reshape wide data into long form — this is called “unpivoting” \n",
    "# or “melting” in Pandas.\n",
    "# 2890. Reshape Data: Melt\n",
    "import pandas as pd\n",
    "\n",
    "def meltTable(report: pd.DataFrame) -> pd.DataFrame:\n",
    "    result = pd.melt(report, \n",
    "                     id_vars=[\"product\"], \n",
    "                     value_vars=[\"quarter_1\", \"quarter_2\", \"quarter_3\", \"quarter_4\"],\n",
    "                     var_name=\"quarter\", \n",
    "                     value_name=\"sales\")\n",
    "    return result\n"
   ]
  }
 ],
 "metadata": {
  "language_info": {
   "name": "python"
  }
 },
 "nbformat": 4,
 "nbformat_minor": 5
}
