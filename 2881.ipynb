{
 "cells": [
  {
   "cell_type": "code",
   "execution_count": null,
   "id": "243d0253",
   "metadata": {
    "vscode": {
     "languageId": "plaintext"
    }
   },
   "outputs": [],
   "source": [
    "# 2881. Create a New Column\n",
    "\n",
    "import pandas as pd\n",
    "\n",
    "def createBonusColumn(employees: pd.DataFrame) -> pd.DataFrame:\n",
    "   employees['bonus'] = employees['salary'] * 2\n",
    "   return employees \n"
   ]
  }
 ],
 "metadata": {
  "language_info": {
   "name": "python"
  }
 },
 "nbformat": 4,
 "nbformat_minor": 5
}
