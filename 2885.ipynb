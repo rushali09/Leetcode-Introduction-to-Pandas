{
 "cells": [
  {
   "cell_type": "code",
   "execution_count": null,
   "id": "fb950e9a",
   "metadata": {},
   "outputs": [],
   "source": [
    "# 2885. Rename Columns\n",
    "import pandas as pd\n",
    "\n",
    "def renameColumns(students: pd.DataFrame) -> pd.DataFrame:\n",
    "    results = students.rename(columns= {\"id\": \"student_id\", \"first\": \"first_name\", \"last\":\"last_name\", \"age\":\"age_in_years\"})\n",
    "    return results"
   ]
  }
 ],
 "metadata": {
  "language_info": {
   "name": "python"
  }
 },
 "nbformat": 4,
 "nbformat_minor": 5
}
