{
 "cells": [
  {
   "cell_type": "code",
   "execution_count": null,
   "id": "e25b9bdd",
   "metadata": {},
   "outputs": [],
   "source": [
    "import pandas as pd\n",
    "\n",
    "def findHeavyAnimals(animals: pd.DataFrame) -> pd.DataFrame:\n",
    "    # first filter animals that weigh more than 100kg \n",
    "    filter_condition = animals[animals['weight']>100]\n",
    "\n",
    "    sort_criteria = filter_condition.sort_values(by = 'weight', ascending = False)\n",
    "\n",
    "    result = sort_criteria[['name']]\n",
    "\n",
    "    return result"
   ]
  }
 ],
 "metadata": {
  "language_info": {
   "name": "python"
  }
 },
 "nbformat": 4,
 "nbformat_minor": 5
}
