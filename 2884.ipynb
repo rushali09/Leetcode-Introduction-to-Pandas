{
 "cells": [
  {
   "cell_type": "code",
   "execution_count": null,
   "id": "31b4ea4e",
   "metadata": {},
   "outputs": [],
   "source": [
    "# 2884. Modify Columns\n",
    "\n",
    "import pandas as pd\n",
    "\n",
    "# def modifySalaryColumn(employees: pd.DataFrame) -> pd.DataFrame:\n",
    "#     employees['salary'] = employees['salary'] * 2\n",
    "#     return employees\n",
    "\n",
    "def modifySalaryColumn(employees: pd.DataFrame) -> pd.DataFrame:\n",
    "    for i in range(len('name')):\n",
    "        employees['salary'] = employees['salary'] * 2\n",
    "    return employees\n"
   ]
  }
 ],
 "metadata": {
  "language_info": {
   "name": "python"
  }
 },
 "nbformat": 4,
 "nbformat_minor": 5
}
