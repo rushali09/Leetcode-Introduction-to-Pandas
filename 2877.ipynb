{
 "cells": [
  {
   "cell_type": "code",
   "execution_count": null,
   "id": "439ecf3a",
   "metadata": {
    "vscode": {
     "languageId": "plaintext"
    }
   },
   "outputs": [],
   "source": [
    "# 2877. Create a DataFrame from List\n",
    "\n",
    "# | Parameter | Purpose       | Example                 |\n",
    "# | --------- | ------------- | ----------------------- |\n",
    "# | `data`    | actual data   | `[[1, 15], [2, 11]]`    |\n",
    "# | `columns` | column names  | `[\"student_id\", \"age\"]` |\n",
    "# | `index`   | row labels    | `[\"A\", \"B\"]`            |\n",
    "# | `dtype`   | set data type | `float`                 |\n",
    "# | `copy`    | make new copy | `True`                  |\n",
    "\n",
    "DataFrame(data, dtype, columns, etc)\n",
    "\n",
    "# Specified the data set in the pd.DataFrame \n",
    "\n",
    "import pandas as pd \n",
    "\n",
    "import pandas as pd\n",
    "\n",
    "def createDataframe(student_data: List[List[int]]) -> pd.DataFrame:\n",
    "    df = pd.DataFrame(student_data, columns= [\"student_id\", \"age\"])\n",
    "    return df "
   ]
  }
 ],
 "metadata": {
  "language_info": {
   "name": "python"
  }
 },
 "nbformat": 4,
 "nbformat_minor": 5
}
