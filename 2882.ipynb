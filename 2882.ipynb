{
 "cells": [
  {
   "cell_type": "code",
   "execution_count": null,
   "id": "af4a730b",
   "metadata": {},
   "outputs": [],
   "source": [
    "# # 2882. Drop Duplicate Rows\n",
    "\n",
    "# import pandas as pd\n",
    "\n",
    "# def dropDuplicateEmails(customers: pd.DataFrame) -> pd.DataFrame:\n",
    "#    result = customers.drop_duplicates(subset = [\"email\"], keep= 'first')\n",
    "#    return result"
   ]
  },
  {
   "cell_type": "code",
   "execution_count": null,
   "id": "588a62b8",
   "metadata": {},
   "outputs": [],
   "source": [
    "# return customers.drop_duplicates(subset = ['email'], keep= 'first')"
   ]
  }
 ],
 "metadata": {
  "kernelspec": {
   "display_name": "storefront (3.9.6)",
   "language": "python",
   "name": "python3"
  },
  "language_info": {
   "name": "python",
   "version": "3.9.6"
  }
 },
 "nbformat": 4,
 "nbformat_minor": 5
}
