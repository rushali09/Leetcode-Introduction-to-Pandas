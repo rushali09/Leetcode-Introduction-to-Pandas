{
 "cells": [
  {
   "cell_type": "code",
   "execution_count": null,
   "id": "06d87090",
   "metadata": {
    "vscode": {
     "languageId": "plaintext"
    }
   },
   "outputs": [],
   "source": [
    "# Shape () is an attribute. \n",
    "# What is Tupel - A datatype in python that is ordered, but cannot be changed or modified. [A sealed envelope]\n",
    "# What is List - A datatype in python, can have duplicates, can be modified or changed. [A to-do list which can be edited, or changed]"
   ]
  },
  {
   "cell_type": "code",
   "execution_count": null,
   "id": "eef2bb59",
   "metadata": {
    "vscode": {
     "languageId": "plaintext"
    }
   },
   "outputs": [],
   "source": [
    "import pandas as pd\n",
    "\n",
    "# def getDataframeSize(players: pd.DataFrame) -> List[int]:\n",
    "# unpack into two separate variables\n",
    "#     rows, columns = players.shape\n",
    "#     return [rows, columns]\n",
    "\n",
    "def getDataframeSize(players: pd.DataFrame) -> List[int]:\n",
    "    return list(players.shape)"
   ]
  }
 ],
 "metadata": {
  "language_info": {
   "name": "python"
  }
 },
 "nbformat": 4,
 "nbformat_minor": 5
}
