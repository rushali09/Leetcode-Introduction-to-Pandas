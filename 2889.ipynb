{
 "cells": [
  {
   "cell_type": "code",
   "execution_count": null,
   "id": "5e475161",
   "metadata": {},
   "outputs": [],
   "source": [
    "# 2889. Reshape Data: Pivot\n",
    "import pandas as pd\n",
    "\n",
    "def pivotTable(weather: pd.DataFrame) -> pd.DataFrame:\n",
    "    results = weather.pivot(index= 'month', columns = 'city', values = 'temperature')\n",
    "    return results"
   ]
  }
 ],
 "metadata": {
  "language_info": {
   "name": "python"
  }
 },
 "nbformat": 4,
 "nbformat_minor": 5
}
