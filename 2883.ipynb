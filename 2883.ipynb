{
 "cells": [
  {
   "cell_type": "code",
   "execution_count": null,
   "id": "38461dea",
   "metadata": {},
   "outputs": [],
   "source": [
    "# 2883. Drop Missing Data\n",
    "\n",
    "import pandas as pd\n",
    "\n",
    "def dropMissingData(students: pd.DataFrame) -> pd.DataFrame:\n",
    "    results = students.dropna(subset=['name'])\n",
    "    return results"
   ]
  }
 ],
 "metadata": {
  "language_info": {
   "name": "python"
  }
 },
 "nbformat": 4,
 "nbformat_minor": 5
}
