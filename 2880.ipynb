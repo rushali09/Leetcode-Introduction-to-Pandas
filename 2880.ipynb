{
 "cells": [
  {
   "cell_type": "code",
   "execution_count": null,
   "id": "b0231514",
   "metadata": {
    "vscode": {
     "languageId": "plaintext"
    }
   },
   "outputs": [],
   "source": [
    "# using df.loc to filter/ rows/columns \n",
    "import pandas as pd\n",
    "\n",
    "# Tells pandas to return multiple columns by using double brackets\n",
    "# df[[\"col1\", \"col2\"]]\n",
    "\n",
    "# finding columns \n",
    "# [[\"name\", \"age\"]]\n",
    "\n",
    "# finding rows\n",
    "# students[\"student_id\"] = 101\n",
    "\n",
    "\n",
    "# Combining those together \n",
    "# results = students.loc[students[\"student_id\"]==101, [\"name\", \"age\"]]\n",
    "\n",
    "# df[[\"col1\", \"col2\"]] → double brackets are required (only columns).\n",
    "# df.loc[rows, [\"col1\", \"col2\"]] → single set of brackets after the comma is enough (columns part already clear).\n",
    "\n",
    "def selectData(students: pd.DataFrame) -> pd.DataFrame:\n",
    "    results = students.loc[students[\"student_id\"]==101, [\"name\", \"age\"]]\n",
    "    return results"
   ]
  }
 ],
 "metadata": {
  "language_info": {
   "name": "python"
  }
 },
 "nbformat": 4,
 "nbformat_minor": 5
}
