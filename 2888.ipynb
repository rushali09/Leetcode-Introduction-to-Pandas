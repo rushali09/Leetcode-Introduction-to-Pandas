{
 "cells": [
  {
   "cell_type": "code",
   "execution_count": null,
   "id": "16a48bab",
   "metadata": {},
   "outputs": [],
   "source": [
    "# 2888. Reshape Data: Concatenate\n",
    "\n",
    "import pandas as pd\n",
    "\n",
    "def concatenateTables(df1: pd.DataFrame, df2: pd.DataFrame) -> pd.DataFrame:\n",
    "    results = pd.concat([df1,df2], ignore_index= True)\n",
    "    return results\n",
    "\n",
    "# pd.concat([df1,df2], ignore_index= True)"
   ]
  }
 ],
 "metadata": {
  "language_info": {
   "name": "python"
  }
 },
 "nbformat": 4,
 "nbformat_minor": 5
}
